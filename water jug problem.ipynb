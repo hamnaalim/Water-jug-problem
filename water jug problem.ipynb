{
 "cells": [
  {
   "cell_type": "code",
   "execution_count": 3,
   "id": "b0c273b7",
   "metadata": {},
   "outputs": [
    {
     "name": "stdout",
     "output_type": "stream",
     "text": [
      "(0, 3) -> (3, 0) -> (3, 3) -> (4, 2) -> (0, 2) -> (2, 0) -> (2, 0)\n"
     ]
    }
   ],
   "source": [
    "class Queue:\n",
    "    def __init__(self):\n",
    "        self.items = []\n",
    "        self.front = 0\n",
    "        self.rear = -1\n",
    "\n",
    "    def enqueue(self, item):\n",
    "        self.items.append(item)\n",
    "        self.rear += 1\n",
    "\n",
    "    def dequeue(self):\n",
    "        if self.is_empty():\n",
    "            return None\n",
    "        item = self.items[self.front]\n",
    "        self.front += 1\n",
    "        return item\n",
    "\n",
    "    def is_empty(self):\n",
    "        return self.front > self.rear\n",
    "\n",
    "\n",
    "def bfs(initial_state, goal_state):\n",
    "    queue = Queue()\n",
    "    queue.enqueue((initial_state, []))\n",
    "    visited = set()\n",
    "    transitions = {}\n",
    "\n",
    "    while not queue.is_empty():\n",
    "        state, path = queue.dequeue()\n",
    "        if state == goal_state:\n",
    "            return path, transitions\n",
    "        visited.add(state)\n",
    "\n",
    "        for action in range(1, 9):\n",
    "            new_state = None\n",
    "            # Action 1: Fill 4-Liter Jug\n",
    "            if action == 1 and state[0] < 4:\n",
    "                new_state = (4, state[1])\n",
    "            # Action 2: Fill 3-Liter Jug\n",
    "            elif action == 2 and state[1] < 3:\n",
    "                new_state = (state[0], 3)\n",
    "            # Action 3: Empty 4-Liter Jug\n",
    "            elif action == 3 and state[0] > 0:\n",
    "                new_state = (0, state[1])\n",
    "            # Action 4: Empty 3-Liter Jug\n",
    "            elif action == 4 and state[1] > 0:\n",
    "                new_state = (state[0], 0)\n",
    "            # Action 5: Pour water from 3 to 4 Liter Jug\n",
    "            elif action == 5 and state[0] + state[1] >= 4 and state[1] > 0:\n",
    "                new_state = (4, state[1] - (4 - state[0]))\n",
    "            # Action 6: Pour water from 4 to 3 Liter Jug\n",
    "            elif action == 6 and state[0] + state[1] >= 3 and state[0] > 0:\n",
    "                new_state = (state[0] - (3 - state[1]), 3)\n",
    "            # Action 7: Pouring all water from 3 to 4 Liters jug\n",
    "            elif action == 7 and state[0] + state[1] <= 4 and state[1] > 0:\n",
    "                new_state = (state[0] + state[1], 0)\n",
    "            # Action 8: Pouring all water from 4 to 3 Liters jug\n",
    "            elif action == 8 and state[0] + state[1] <= 3 and state[0] > 0:\n",
    "                new_state = (0, state[0] + state[1])\n",
    "\n",
    "            if new_state is not None and new_state not in visited:\n",
    "                new_path = path + [new_state]\n",
    "                queue.enqueue((new_state, new_path))\n",
    "                transitions[state] = new_state\n",
    "\n",
    "# Initial and goal states\n",
    "initial_state = (0, 0)\n",
    "goal_state = (2, 0)\n",
    "\n",
    "# Solve the problem using BFS\n",
    "sequence, transitions = bfs(initial_state, goal_state)\n",
    "\n",
    "# Print the transitions in graph format\n",
    "for state in sequence:\n",
    "    print(state, end=\" -> \")\n",
    "print(goal_state) \n"
   ]
  },
  {
   "cell_type": "code",
   "execution_count": null,
   "id": "4de29688",
   "metadata": {},
   "outputs": [],
   "source": []
  }
 ],
 "metadata": {
  "kernelspec": {
   "display_name": "Python 3 (ipykernel)",
   "language": "python",
   "name": "python3"
  },
  "language_info": {
   "codemirror_mode": {
    "name": "ipython",
    "version": 3
   },
   "file_extension": ".py",
   "mimetype": "text/x-python",
   "name": "python",
   "nbconvert_exporter": "python",
   "pygments_lexer": "ipython3",
   "version": "3.11.4"
  }
 },
 "nbformat": 4,
 "nbformat_minor": 5
}
